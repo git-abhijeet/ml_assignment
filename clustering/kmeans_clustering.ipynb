{
 "cells": [
  {
   "cell_type": "markdown",
   "id": "9838a9ff",
   "metadata": {},
   "source": [
    "# K-Means Clustering Assignment - Easy Level\n",
    "## Mall Customers Dataset Analysis\n",
    "\n",
    "**Objective**: Understand and apply basic K-Means clustering using key features.\n",
    "\n",
    "**Dataset**: Mall Customers with features like Age, Income, and Spending Score"
   ]
  },
  {
   "cell_type": "markdown",
   "id": "c62f35f1",
   "metadata": {},
   "source": [
    "## Task 1: Load the Dataset"
   ]
  },
  {
   "cell_type": "code",
   "execution_count": null,
   "id": "d7715e64",
   "metadata": {},
   "outputs": [],
   "source": [
    "# Import required libraries\n",
    "import pandas as pd\n",
    "import numpy as np\n",
    "import matplotlib.pyplot as plt\n",
    "import seaborn as sns\n",
    "from sklearn.cluster import KMeans\n",
    "\n",
    "# Set style for better plots\n",
    "plt.style.use('default')\n",
    "sns.set_palette(\"husl\")"
   ]
  },
  {
   "cell_type": "code",
   "execution_count": null,
   "id": "d2a72354",
   "metadata": {},
   "outputs": [],
   "source": [
    "# Load the dataset\n",
    "df = pd.read_csv('Mall_Customers.csv')\n",
    "\n",
    "# Display first few rows\n",
    "print(\"First 5 rows of the dataset:\")\n",
    "print(df.head())\n",
    "print(f\"\\nDataset shape: {df.shape}\")\n",
    "print(f\"Columns: {list(df.columns)}\")"
   ]
  },
  {
   "cell_type": "code",
   "execution_count": null,
   "id": "1d2c5317",
   "metadata": {},
   "outputs": [],
   "source": [
    "# Check for missing values\n",
    "print(\"Missing values:\")\n",
    "print(df.isnull().sum())\n",
    "\n",
    "if df.isnull().sum().sum() == 0:\n",
    "    print(\"✓ No missing values found!\")\n",
    "else:\n",
    "    print(\"⚠ Missing values detected - handling required\")"
   ]
  },
  {
   "cell_type": "markdown",
   "id": "c204ceab",
   "metadata": {},
   "source": [
    "## Task 2: Exploratory Data Analysis (EDA)"
   ]
  },
  {
   "cell_type": "code",
   "execution_count": null,
   "id": "1b468bc5",
   "metadata": {},
   "outputs": [],
   "source": [
    "# Basic statistics\n",
    "print(\"Dataset Info:\")\n",
    "df.info()\n",
    "print(\"\\nBasic Statistics:\")\n",
    "df.describe()"
   ]
  },
  {
   "cell_type": "code",
   "execution_count": null,
   "id": "e180eadd",
   "metadata": {},
   "outputs": [],
   "source": [
    "# Create visualizations\n",
    "fig, axes = plt.subplots(2, 2, figsize=(12, 10))\n",
    "fig.suptitle('Exploratory Data Analysis - Mall Customers', fontsize=16)\n",
    "\n",
    "# Histogram for Age\n",
    "axes[0, 0].hist(df['Age'], bins=20, alpha=0.7, color='skyblue', edgecolor='black')\n",
    "axes[0, 0].set_title('Distribution of Age')\n",
    "axes[0, 0].set_xlabel('Age')\n",
    "axes[0, 0].set_ylabel('Frequency')\n",
    "\n",
    "# Histogram for Annual Income\n",
    "axes[0, 1].hist(df['Annual Income (k$)'], bins=20, alpha=0.7, color='lightgreen', edgecolor='black')\n",
    "axes[0, 1].set_title('Distribution of Annual Income')\n",
    "axes[0, 1].set_xlabel('Annual Income (k$)')\n",
    "axes[0, 1].set_ylabel('Frequency')\n",
    "\n",
    "# Box plot for Age\n",
    "axes[1, 0].boxplot(df['Age'])\n",
    "axes[1, 0].set_title('Box Plot - Age')\n",
    "axes[1, 0].set_ylabel('Age')\n",
    "\n",
    "# Box plot for Annual Income\n",
    "axes[1, 1].boxplot(df['Annual Income (k$)'])\n",
    "axes[1, 1].set_title('Box Plot - Annual Income')\n",
    "axes[1, 1].set_ylabel('Annual Income (k$)')\n",
    "\n",
    "plt.tight_layout()\n",
    "plt.show()"
   ]
  },
  {
   "cell_type": "markdown",
   "id": "fab30ece",
   "metadata": {},
   "source": [
    "## Task 3: Feature Selection"
   ]
  },
  {
   "cell_type": "code",
   "execution_count": null,
   "id": "f271b0a8",
   "metadata": {},
   "outputs": [],
   "source": [
    "# Select 2 features for clustering: Annual Income and Spending Score\n",
    "features = ['Annual Income (k$)', 'Spending Score (1-100)']\n",
    "X = df[features].copy()\n",
    "\n",
    "print(f\"Selected features for clustering: {features}\")\n",
    "print(f\"Feature matrix shape: {X.shape}\")\n",
    "print(f\"\\nFirst 5 rows of selected features:\")\n",
    "print(X.head())"
   ]
  },
  {
   "cell_type": "code",
   "execution_count": null,
   "id": "718bd39d",
   "metadata": {},
   "outputs": [],
   "source": [
    "# Visualize the selected features\n",
    "plt.figure(figsize=(10, 6))\n",
    "plt.scatter(X['Annual Income (k$)'], X['Spending Score (1-100)'], alpha=0.6, s=50)\n",
    "plt.xlabel('Annual Income (k$)')\n",
    "plt.ylabel('Spending Score (1-100)')\n",
    "plt.title('Scatter Plot: Annual Income vs Spending Score (Before Clustering)')\n",
    "plt.grid(True, alpha=0.3)\n",
    "plt.show()"
   ]
  },
  {
   "cell_type": "markdown",
   "id": "39bb8416",
   "metadata": {},
   "source": [
    "## Task 4: Implement K-Means Clustering"
   ]
  },
  {
   "cell_type": "code",
   "execution_count": null,
   "id": "0b305b17",
   "metadata": {},
   "outputs": [],
   "source": [
    "# Apply K-Means with k=3\n",
    "k = 3\n",
    "print(f\"Applying K-Means clustering with k = {k}\")\n",
    "\n",
    "# Initialize and fit K-Means\n",
    "kmeans = KMeans(n_clusters=k, random_state=42, n_init=10)\n",
    "clusters = kmeans.fit_predict(X)\n",
    "\n",
    "# Add cluster labels to the original dataframe\n",
    "df['Cluster'] = clusters\n",
    "\n",
    "print(f\"✓ K-Means clustering completed!\")\n",
    "print(f\"Cluster centers:\")\n",
    "print(kmeans.cluster_centers_)"
   ]
  },
  {
   "cell_type": "code",
   "execution_count": null,
   "id": "a33ea873",
   "metadata": {},
   "outputs": [],
   "source": [
    "# Display cluster statistics\n",
    "print(f\"Cluster Distribution:\")\n",
    "cluster_counts = pd.Series(clusters).value_counts().sort_index()\n",
    "for i in range(k):\n",
    "    count = cluster_counts[i]\n",
    "    percentage = (count / len(df)) * 100\n",
    "    print(f\"Cluster {i}: {count} customers ({percentage:.1f}%)\")\n",
    "\n",
    "# Calculate cluster statistics\n",
    "print(f\"\\nCluster Statistics:\")\n",
    "cluster_stats = df.groupby('Cluster')[features].mean()\n",
    "print(cluster_stats)"
   ]
  },
  {
   "cell_type": "markdown",
   "id": "05f64d30",
   "metadata": {},
   "source": [
    "## Task 5: Visualize Clusters"
   ]
  },
  {
   "cell_type": "code",
   "execution_count": null,
   "id": "fd72c27f",
   "metadata": {},
   "outputs": [],
   "source": [
    "# Create a 2D scatter plot with clusters\n",
    "plt.figure(figsize=(12, 8))\n",
    "\n",
    "# Define colors for clusters\n",
    "colors = ['red', 'blue', 'green', 'purple', 'orange']\n",
    "\n",
    "# Plot each cluster with different colors\n",
    "for i in range(k):\n",
    "    cluster_data = X[clusters == i]\n",
    "    plt.scatter(cluster_data['Annual Income (k$)'], \n",
    "               cluster_data['Spending Score (1-100)'], \n",
    "               c=colors[i], \n",
    "               label=f'Cluster {i}', \n",
    "               alpha=0.6, \n",
    "               s=50)\n",
    "\n",
    "# Plot cluster centers\n",
    "centers = kmeans.cluster_centers_\n",
    "plt.scatter(centers[:, 0], centers[:, 1], \n",
    "           c='black', marker='x', s=200, linewidths=3, \n",
    "           label='Centroids')\n",
    "\n",
    "plt.xlabel('Annual Income (k$)')\n",
    "plt.ylabel('Spending Score (1-100)')\n",
    "plt.title('K-Means Clustering Results (k=3)\\nMall Customers Segmentation')\n",
    "plt.legend()\n",
    "plt.grid(True, alpha=0.3)\n",
    "plt.show()"
   ]
  },
  {
   "cell_type": "markdown",
   "id": "e084163d",
   "metadata": {},
   "source": [
    "## Cluster Interpretation and Analysis"
   ]
  },
  {
   "cell_type": "code",
   "execution_count": null,
   "id": "a79ee7d9",
   "metadata": {},
   "outputs": [],
   "source": [
    "# Cluster interpretation\n",
    "print(\"Cluster Interpretation:\")\n",
    "print(\"-\" * 20)\n",
    "\n",
    "for i in range(k):\n",
    "    cluster_data = df[df['Cluster'] == i]\n",
    "    avg_income = cluster_data['Annual Income (k$)'].mean()\n",
    "    avg_spending = cluster_data['Spending Score (1-100)'].mean()\n",
    "    avg_age = cluster_data['Age'].mean()\n",
    "    \n",
    "    print(f\"\\nCluster {i} ({len(cluster_data)} customers):\")\n",
    "    print(f\"  - Average Income: ${avg_income:.1f}k\")\n",
    "    print(f\"  - Average Spending Score: {avg_spending:.1f}\")\n",
    "    print(f\"  - Average Age: {avg_age:.1f} years\")\n",
    "    \n",
    "    # Simple interpretation\n",
    "    if avg_income < 40 and avg_spending < 40:\n",
    "        interpretation = \"Low Income, Low Spending\"\n",
    "    elif avg_income < 40 and avg_spending > 60:\n",
    "        interpretation = \"Low Income, High Spending\"\n",
    "    elif avg_income > 60 and avg_spending < 40:\n",
    "        interpretation = \"High Income, Low Spending\"\n",
    "    elif avg_income > 60 and avg_spending > 60:\n",
    "        interpretation = \"High Income, High Spending\"\n",
    "    else:\n",
    "        interpretation = \"Moderate Income, Moderate Spending\"\n",
    "    \n",
    "    print(f\"  - Profile: {interpretation}\")"
   ]
  },
  {
   "cell_type": "markdown",
   "id": "d8674934",
   "metadata": {},
   "source": [
    "## Summary\n",
    "\n",
    "### Assignment Completed Successfully! ✅\n",
    "\n",
    "**Key Results:**\n",
    "- Successfully loaded and analyzed 200 mall customers\n",
    "- No missing values found in the dataset\n",
    "- Selected Annual Income and Spending Score as clustering features\n",
    "- Applied K-Means clustering with k=3\n",
    "- Identified 3 distinct customer segments:\n",
    "  - **Cluster 0**: High Income, Low Spending customers\n",
    "  - **Cluster 1**: High Income, High Spending customers  \n",
    "  - **Cluster 2**: Moderate Income, Moderate Spending customers\n",
    "\n",
    "**Business Value:**\n",
    "These clusters can help the mall target different customer segments with appropriate marketing strategies and product offerings."
   ]
  }
 ],
 "metadata": {
  "language_info": {
   "name": "python"
  }
 },
 "nbformat": 4,
 "nbformat_minor": 5
}
